{
 "cells": [
  {
   "cell_type": "markdown",
   "metadata": {},
   "source": [
    "# Análise Paramétrica\n",
    "## e validação de resultados"
   ]
  },
  {
   "cell_type": "markdown",
   "metadata": {},
   "source": [
    "Os algoritimos estudados nas aulas anteriores são não-determinísticos, portanto suas saídas e seus desempenhos variam de acordo com as execuções, mesmo que sejam mantidos os parâmetros e a base de dados. Desta maneira, é importante que saibamos como, por quê e quando tais desempenhos variam.\n",
    "\n",
    "A análise paramétrica é uma técnica que pode ser usada para avaliar o desempenho de algoritmos não-determinísticos. Essa técnica envolve a execução do algoritmo em uma variedade de entradas e a coleta de dados sobre o desempenho do algoritmo.\n",
    "\n",
    "Os dados coletados na análise paramétrica podem ser usados para estimar a distribuição do desempenho do algoritmo. Isso pode ajudar a entender como o desempenho do algoritmo varia de acordo com os dados de entrada.\n",
    "\n",
    "#### Validação de Resultados\n",
    "\n",
    "A validação de resultados é outra técnica que pode ser usada para avaliar o desempenho de algoritmos não-determinísticos. Essa técnica envolve a divisão dos dados de entrada em dois conjuntos: um conjunto de treinamento e um conjunto de teste.\n",
    "\n",
    "O algoritmo é treinado no conjunto de treinamento e é então avaliado no conjunto de teste. Isso ajuda a garantir que o algoritmo não está simplesmente memorizando os dados de treinamento e que está realmente aprendendo a resolver o problema.\n",
    "\n",
    "#### Como, Por quê e Quando\n",
    "\n",
    "O desempenho de um algoritmo não-determinístico pode variar de acordo com uma variedade de fatores, incluindo:\n",
    "\n",
    "- **Os dados de entrada**: O desempenho do algoritmo pode variar de acordo com a distribuição dos dados de entrada. Por exemplo, um algoritmo que é bom em classificar dados normais pode não ser tão bom em classificar dados anormais.\n",
    "- **Os parâmetros do algoritmo**: O desempenho do algoritmo pode variar de acordo com os parâmetros do algoritmo. Por exemplo, um algoritmo de aprendizado de máquina pode ter um desempenho melhor com um conjunto específico de parâmetros.\n",
    "- **A aleatoriedade**: A aleatoriedade é o principal fator que contribui para a variação do desempenho em algoritmos não-determinísticos.\n",
    "É importante entender como, por quê e quando o desempenho de um algoritmo não-determinístico varia. Isso pode ajudar a avaliar o desempenho do algoritmo e a tomar decisões informadas sobre como usá-lo.\n",
    "\n",
    "#### Exemplos\n",
    "\n",
    "Aqui estão alguns exemplos de como a análise paramétrica e a validação de resultados podem ser usadas para avaliar o desempenho de algoritmos não-determinísticos:\n",
    "\n",
    "- Um algoritmo de classificação é usado para classificar imagens de gatos e cachorros. A análise paramétrica pode ser usada para estimar a taxa de acerto do algoritmo em uma variedade de imagens. A validação de resultados pode ser usada para avaliar a taxa de acerto do algoritmo em um conjunto de imagens de teste.\n",
    "- Um algoritmo de aprendizado de máquina é usado para prever o preço de ações. A análise paramétrica pode ser usada para estimar o erro de previsão do algoritmo em uma variedade de conjuntos de dados. A validação de resultados pode ser usada para avaliar o erro de previsão do algoritmo em um conjunto de dados de teste.\n",
    "- Um algoritmo de busca é usado para encontrar o caminho mais curto entre dois pontos em um mapa. A análise paramétrica pode ser usada para estimar o tempo de execução do algoritmo em uma variedade de mapas. A validação de resultados pode ser usada para avaliar o tempo de execução do algoritmo em um mapa de teste.\n",
    "\n",
    "#### Por outro lado\n",
    "\n",
    "A escolha dos parâmetros também afeta o resultado do algoritimo, send necessário explorar o espaço de parâmetros na tentativa de otimizar o processo.\n",
    "\n",
    "#### Validação K-pastas\n",
    "\n",
    "Considerando um conjunto **D** de dados, divida-os em **k** subconjuntos, idealmente com a mesma quantidade de elementos: **F1, F2, ..., Fk**\n",
    "\n",
    "**Execute** **k** testes:\n",
    "\n",
    "1. {Treinamento: **f2 a fk**}{Validação: **21**}\n",
    "2. {Treinamento: **f1, f3 a fk**}{Validação: **f2**}\n",
    "3. ...\n",
    "\n",
    "Dados os **k** desempenhos, calcule a média e desvio-padrão deles.\n",
    "\n",
    "## Matriz de Confusão\n",
    "\n",
    "Problema de classificação com classes **C1, C2, ..., Cn**\n",
    "\n",
    "|                | Valor Real Positivo (VP) | Valor Real Negativo (VN) |\n",
    "|----------------|-------------------------|-------------------------|\n",
    "| Valor Previsto Positivo (VP) |           100           |            20           |\n",
    "| Valor Previsto Negativo (VN) |            10           |           200           |\n",
    "\n",
    "## Tarefa de Agrupamento / Clusterização\n",
    "\n",
    "Como particionar esses dados em grupos de forma a:\n",
    "- **maximizar**: a similaridade interna de objetos num mesmo grupo;\n",
    "- **minimizar**: a similaridade entre objetos de grupos diferentes, ou, equivalentemente, como**minimizar**  distância média intracluster e **maximizar** a distância média interclusters;\n",
    "\n",
    "$ figura de um gráfico de correlação"
   ]
  }
 ],
 "metadata": {
  "language_info": {
   "name": "python"
  },
  "orig_nbformat": 4
 },
 "nbformat": 4,
 "nbformat_minor": 2
}
