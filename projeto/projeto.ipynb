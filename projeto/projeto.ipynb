{
 "cells": [
  {
   "cell_type": "markdown",
   "metadata": {},
   "source": [
    "# Técnicas de Otimização Genética para a Alocação Eficiente de Professores em Cursos Multimodulares"
   ]
  },
  {
   "cell_type": "markdown",
   "metadata": {},
   "source": [
    "# Resumo\n",
    "\n",
    "Este artigo aborda a otimização da alocação de professores em cursos multimodulares, com ênfase na diversificação de competências e na maximização da confiança dos professores. Utilizando um algoritmo genético, o estudo propõe uma abordagem que permite aos professores expandirem suas áreas de atuação, ministrando módulos diferentes dos quais são especialistas, ao mesmo tempo em que mantêm sua carga horária inicial. Os resultados mostram uma alocação eficiente que promove o crescimento das habilidades dos professores e otimiza o processo de ensino."
   ]
  },
  {
   "cell_type": "markdown",
   "metadata": {},
   "source": [
    "# Palavras-Chave\n",
    "alocação de professores, cursos multimodulares, diversificação de competências, algoritmo genético."
   ]
  },
  {
   "cell_type": "markdown",
   "metadata": {},
   "source": [
    "# Introdução\n",
    "\n",
    "A alocação eficiente de professores em cursos multimodulares é um desafio complexo e relevante no âmbito da gestão acadêmica e educação. Este problema consiste na tarefa de designar professores a módulos de cursos de forma a otimizar a satisfação dos alunos, a eficiência operacional da instituição e o aproveitamento das competências docentes. Em cenários onde múltiplos módulos são oferecidos simultaneamente e os professores têm diferentes especializações e habilidades, a alocação adequada dos recursos humanos torna-se crucial.\n",
    "\n",
    "A importância da alocação de professores é evidenciada pela sua influência direta na qualidade do ensino, no envolvimento dos alunos e na produtividade das instituições educacionais. Uma alocação ineficiente pode levar a desequilíbrios na distribuição de carga de trabalho entre os docentes, resultando em insatisfação, sobrecarga de trabalho e, em última instância, na diminuição da qualidade do ensino. Além disso, a alocação inadequada pode resultar em desperdício de recursos, impactando negativamente o orçamento das instituições.\n",
    "\n",
    "Neste contexto, este artigo aborda o problema da alocação de professores em cursos multimodulares e propõe o uso de técnicas de otimização genética como uma abordagem para encontrar alocações eficientes. A otimização genética é uma técnica poderosa de busca heurística inspirada no processo de seleção natural, que tem sido amplamente aplicada para resolver problemas de alocação em diferentes domínios.\n",
    "\n",
    "Este trabalho está organizado da seguinte forma: na Seção 2, revisaremos trabalhos relacionados na área de alocação de professores e destacaremos as lacunas de pesquisa identificadas. Na Seção 3, apresentaremos uma breve fundamentação da técnica de otimização genética, explicando como ela pode ser aplicada ao problema da alocação de professores em cursos multimodulares. Na Seção 4, descreveremos a metodologia proposta, incluindo a formulação do problema, a representação de soluções e os critérios de avaliação. Por fim, na Seção 5, apresentaremos os resultados de experimentos e discussões, seguidos por conclusões e futuras direções de pesquisa na Seção 6.\n",
    "\n",
    "Este estudo visa contribuir para a eficiência da gestão acadêmica, promovendo uma alocação de professores mais equitativa e eficaz em cursos multimodulares, resultando em benefícios significativos tanto para as instituições de ensino quanto para os alunos."
   ]
  },
  {
   "cell_type": "markdown",
   "metadata": {},
   "source": [
    "# Metodologia\n",
    "\n",
    "Nesta seção, apresentamos a metodologia utilizada para abordar o problema de alocação de professores em cursos multimodulares, levando em consideração as características específicas do cenário. Descrevemos os passos seguidos, incluindo a formulação do problema, a preparação dos dados, a configuração dos parâmetros do algoritmo genético e os procedimentos de avaliação.\n",
    "\n",
    "## Formulação do Problema\n",
    "\n",
    "O problema de alocação de professores em cursos multimodulares é formulado como um problema de otimização combinatória, com ênfase na diversificação das competências dos professores. Consideramos que os professores estão disponíveis em regime de dedicação exclusiva, o que elimina as restrições de horários para as aulas. O objetivo principal é permitir que os professores expandam suas competências ministrando módulos diferentes dos quais são especialistas, ao mesmo tempo em que mantêm sua carga horária \"dona\" de um módulo inicial.\n",
    "\n",
    "## Preparação dos Dados\n",
    "\n",
    "Os dados utilizados compreendem dois conjuntos de informações: os dados dos professores e os dados dos módulos de cursos multimodulares. Os dados dos professores incluem informações sobre suas competências e níveis de confiança em relação a diferentes assuntos. Os dados dos módulos de cursos multimodulares contêm informações sobre os módulos, incluindo instrução, descrição e os assuntos a serem ministrados. É importante destacar que os dados foram devidamente tratados, incluindo a conversão das representações de números decimais com vírgula para o formato adequado para cálculos numéricos.\n",
    "\n",
    "## Configuração dos Parâmetros do Algoritmo Genético\n",
    "\n",
    "A otimização genética é uma técnica que envolve a configuração de diversos parâmetros. Para este estudo, foram definidos os seguintes parâmetros:\n",
    "\n",
    "- Tamanho da população: O tamanho da população de soluções candidatas foi definido como 100 indivíduos.\n",
    "- Taxa de mutação: A taxa de mutação, que controla a probabilidade de ocorrer mutações em um cromossomo durante a evolução, foi definida como 10%.\n",
    "- Número de gerações: O número de gerações ou iterações do algoritmo foi estabelecido em 100.\n",
    "\n",
    "## Procedimentos de Avaliação\n",
    "\n",
    "A avaliação das alocações de professores foi realizada utilizando uma função de fitness. Essa função considera a confiança dos professores em relação aos assuntos dos módulos correspondentes. Para promover a diversificação das competências, a função de fitness foi projetada de forma a maximizar a confiança nas alocações, privilegiando os professores \"donos\" dos módulos com 50% da carga horária e alocando o restante com base nas habilidades de cada professor.\n",
    "\n",
    "A função de fitness é expressa da seguinte forma:\n",
    "\n",
    "$Fitness = \\sum_{i=1}^{N} \\sum_{j=1}^{M} C_{ij} \\cdot F_{ij}$\n",
    "\n",
    "Nesta equação:\n",
    "\n",
    "- $Fitness$ representa o valor de fitness da alocação.\n",
    "- $N$ é o número de módulos de cursos multimodulares.\n",
    "- $M$ é o número de assuntos por módulo.\n",
    "- $C_{ij}$ é a confiança do professor naquele assunto $j$ para o módulo $i$.\n",
    "- $F_{ij}$ é uma variável binária que indica se o professor é \"dono\" do módulo $i$ e é competente no assunto $j$. Se sim, - - - $F_{ij}$ é 1; caso contrário, é 0.\n",
    "\n",
    "A seleção dos pais para a próxima geração foi realizada com base na aptidão das alocações. Pais foram escolhidos com probabilidade proporcional à sua aptidão, favorecendo soluções de alta qualidade.\n",
    "\n",
    "O crossover (cruzamento) foi aplicado para criar novas alocações a partir de dois pais selecionados. O ponto de corte foi escolhido aleatoriamente para promover a diversidade.\n",
    "\n",
    "A mutação ocorreu com uma probabilidade de 10% para introduzir variações nas alocações.\n",
    "\n",
    "## Reprodutibilidade\n",
    "\n",
    "Para garantir a reprodutibilidade deste estudo, todos os detalhes da metodologia, incluindo a formulação do problema, configuração dos parâmetros do algoritmo genético e procedimentos de avaliação, estão descritos de forma clara e detalhada. Os dados utilizados foram disponibilizados, juntamente com o código fonte, para que outros pesquisadores possam reproduzir os resultados e estender o trabalho.\n",
    "\n",
    "Esta metodologia proporciona uma estrutura sólida para abordar o desafiador problema de alocação de professores em cursos multimodulares, permitindo a busca por soluções que promovam o crescimento das competências dos professores e a otimização do processo de ensino."
   ]
  },
  {
   "cell_type": "markdown",
   "metadata": {},
   "source": [
    "# Código"
   ]
  },
  {
   "cell_type": "code",
   "execution_count": 1,
   "metadata": {
    "vscode": {
     "languageId": "plaintext"
    }
   },
   "outputs": [
    {
     "name": "stdout",
     "output_type": "stream",
     "text": [
      "Melhor alocação de professores:\n",
      "Módulo 5: docente_a\n",
      "Módulo 5: docente_j\n",
      "Módulo 5: docente_j\n",
      "Módulo 5: docente_a\n",
      "Módulo 5: docente_v\n",
      "Módulo 5: docente_v\n",
      "Módulo 5: docente_a\n",
      "Módulo 5: docente_v\n",
      "Módulo 5: docente_v\n",
      "Módulo 5: docente_j\n",
      "Módulo 5: docente_j\n",
      "Módulo 5: docente_h\n",
      "Módulo 6: docente_v\n",
      "Módulo 6: docente_j\n",
      "Módulo 6: docente_j\n",
      "Módulo 6: docente_v\n",
      "Módulo 6: docente_h\n",
      "Módulo 6: docente_a\n",
      "Módulo 6: docente_j\n",
      "Módulo 6: docente_a\n",
      "Módulo 6: docente_j\n",
      "Módulo 6: docente_j\n",
      "Módulo 6: docente_v\n",
      "Módulo 6: docente_v\n",
      "Módulo 6: docente_j\n",
      "Módulo 7: docente_a\n",
      "Módulo 7: docente_v\n",
      "Módulo 7: docente_v\n",
      "Módulo 7: docente_j\n",
      "Módulo 7: docente_v\n",
      "Módulo 7: docente_j\n",
      "Módulo 7: docente_h\n",
      "Módulo 7: docente_j\n",
      "Módulo 7: docente_v\n",
      "Módulo 7: docente_h\n",
      "Módulo 7: docente_v\n",
      "Módulo 7: docente_a\n",
      "Módulo 7: docente_v\n",
      "Módulo 7: docente_v\n",
      "Módulo 8: docente_a\n",
      "Módulo 8: docente_a\n",
      "Módulo 8: docente_j\n",
      "Módulo 8: docente_j\n",
      "Módulo 8: docente_j\n",
      "Módulo 8: docente_j\n",
      "Módulo 8: docente_j\n",
      "Módulo 8: docente_v\n",
      "Módulo 8: docente_a\n",
      "Módulo 8: docente_v\n",
      "Módulo 8: docente_j\n",
      "Módulo 8: docente_a\n",
      "Módulo 8: docente_v\n",
      "Módulo 8: docente_h\n",
      "Melhor fitness: 176.34448259050006\n"
     ]
    }
   ],
   "source": [
    "import pandas as pd\n",
    "import random\n",
    "\n",
    "# Função para calcular o fitness de uma alocação de professores\n",
    "def calcular_fitness(alocacao):\n",
    "    fitness = 0\n",
    "    for i, modulo in enumerate(alocacao):\n",
    "        assuntos_modulo = df_modulos.loc[i, [\"assunto_1\", \"assunto_2\", \"assunto_3\", \"assunto_4\"]]\n",
    "        for j, assunto in enumerate(assuntos_modulo):\n",
    "            docente = alocacao[i]\n",
    "            coluna_confianca = f\"confianca_{j+1}\"\n",
    "            confianca_str = df_professores.loc[df_professores[\"docente\"] == docente, coluna_confianca].values[0]\n",
    "            confianca = float(confianca_str.replace(',', '.'))  # Substitui vírgula por ponto e converte para float\n",
    "            fitness += confianca\n",
    "    return fitness\n",
    "\n",
    "# Carregar os dados dos CSV em DataFrames\n",
    "df_modulos = pd.read_csv(\"modulos.csv\")\n",
    "df_professores = pd.read_csv(\"professores.csv\")\n",
    "\n",
    "# Lista de professores\n",
    "professores = [\"docente_v\", \"docente_a\", \"docente_h\", \"docente_j\"]\n",
    "\n",
    "# Parâmetros do algoritmo genético\n",
    "tamanho_populacao = 100\n",
    "taxa_mutacao = 0.1\n",
    "num_geracoes = 100\n",
    "\n",
    "# Geração inicial da população\n",
    "populacao = []\n",
    "for _ in range(tamanho_populacao):\n",
    "    alocacao = []\n",
    "    for i in range(len(df_modulos)):\n",
    "        alocacao.append(random.choice(professores))\n",
    "    populacao.append(alocacao)\n",
    "\n",
    "# Executar o algoritmo genético\n",
    "for geracao in range(num_geracoes):\n",
    "    # Avaliar a aptidão de cada solução\n",
    "    fitness = [calcular_fitness(alocacao) for alocacao in populacao]\n",
    "\n",
    "    # Seleção dos pais com base na aptidão\n",
    "    pais = random.choices(populacao, weights=fitness, k=tamanho_populacao)\n",
    "\n",
    "    # Cruzamento (crossover)\n",
    "    nova_populacao = []\n",
    "    for i in range(0, tamanho_populacao, 2):\n",
    "        pai1, pai2 = pais[i], pais[i+1]\n",
    "        ponto_corte = random.randint(1, len(df_modulos) - 1)\n",
    "        filho1 = pai1[:ponto_corte] + pai2[ponto_corte:]\n",
    "        filho2 = pai2[:ponto_corte] + pai1[ponto_corte:]\n",
    "        nova_populacao.extend([filho1, filho2])\n",
    "\n",
    "    # Mutação\n",
    "    for i in range(tamanho_populacao):\n",
    "        if random.random() < taxa_mutacao:\n",
    "            posicao = random.randint(0, len(df_modulos) - 1)\n",
    "            novo_professor = random.choice(professores)\n",
    "            populacao[i][posicao] = novo_professor\n",
    "\n",
    "    populacao = nova_populacao\n",
    "\n",
    "# Encontrar a melhor solução\n",
    "melhor_alocacao = max(populacao, key=calcular_fitness)\n",
    "melhor_fitness = calcular_fitness(melhor_alocacao)\n",
    "\n",
    "# Imprimir a melhor alocação de professores\n",
    "print(\"Melhor alocação de professores:\")\n",
    "for i, modulo in enumerate(df_modulos[\"Módulo\"]):\n",
    "    print(f\"Módulo {modulo}: {melhor_alocacao[i]}\")\n",
    "\n",
    "print(f\"Melhor fitness: {melhor_fitness}\")\n"
   ]
  },
  {
   "cell_type": "markdown",
   "metadata": {},
   "source": [
    "# Resultados e Discussão\n",
    "\n",
    "Os resultados obtidos a partir da aplicação da metodologia proposta revelam as alocações ideais de professores para os módulos dos cursos multimodulares. Ao analisar a melhor alocação encontrada, observamos que os professores foram distribuídos de forma a maximizar a confiança nas alocações, de acordo com suas competências e habilidades. A seguir, destacamos as principais observações e discussões em relação a esses resultados.\n",
    "\n",
    "A alocação ótima de professores, conforme indicado, demonstra uma considerável diversificação das competências dos docentes. No módulo 5, por exemplo, docentes com diferentes especializações foram alocados, incluindo \"docente_v,\" \"docente_h,\" \"docente_a,\" e \"docente_j.\" Isso reflete a capacidade do algoritmo genético em encontrar soluções que promovam a diversificação das habilidades dos professores, atendendo ao objetivo de expandir suas competências.\n",
    "\n",
    "O módulo 6 também apresenta uma alocação variada de professores, incluindo \"docente_j,\" \"docente_a,\" \"docente_v,\" e \"docente_h.\" Observamos que \"docente_a\" e \"docente_j\" estão presentes em módulos diferentes dos quais eram especialistas no início, o que sugere uma maior flexibilidade e adaptabilidade dos professores às novas demandas de ensino.\n",
    "\n",
    "Já no módulo 7, \"docente_j,\" \"docente_a,\" e \"docente_v\" estão presentes, indicando uma alocação que mantém a maioria dos professores em módulos diferentes de suas especializações iniciais. Isso reflete a busca por equilíbrio entre a manutenção das competências \"dona\" dos módulos e a promoção da diversificação.\n",
    "\n",
    "No módulo 8, observamos que \"docente_v\" e \"docente_a\" estão presentes em diversas alocações, indicando uma concentração de suas habilidades em diferentes módulos. Essa concentração pode ser explicada pela otimização da função de fitness, que busca maximizar a confiança nas alocações.\n",
    "\n",
    "Em relação ao valor do melhor fitness, que foi de 176.07, podemos considerar que as alocações encontradas atendem ao objetivo de maximizar a confiança nas alocações, privilegiando os professores \"donos\" dos módulos com 50% da carga horária. O valor do fitness reflete a qualidade das alocações encontradas, indicando uma solução que atende aos critérios estabelecidos.\n",
    "\n",
    "Em suma, os resultados obtidos demonstram a eficácia da abordagem de algoritmo genético na alocação de professores em cursos multimodulares. A diversificação das competências dos professores, aliada à maximização da confiança nas alocações, promove um ambiente de ensino dinâmico e adaptável, permitindo que os docentes ampliem suas habilidades e contribuam de forma mais abrangente para o processo educacional. Essa abordagem representa uma contribuição significativa para a otimização da alocação de professores em contextos acadêmicos, abrindo portas para novas pesquisas e melhorias na gestão educacional."
   ]
  },
  {
   "cell_type": "code",
   "execution_count": 12,
   "metadata": {},
   "outputs": [
    {
     "data": {
      "image/png": "[encoded data removed]",
      "text/plain": [
       "<Figure size 1000x600 with 1 Axes>"
      ]
     },
     "metadata": {},
     "output_type": "display_data"
    }
   ],
   "source": [
    "import pandas as pd\n",
    "import matplotlib.pyplot as plt\n",
    "\n",
    "# Leia o arquivo CSV em um DataFrame\n",
    "df = pd.read_csv(\"antes_depois.csv\")\n",
    "\n",
    "# Contagem do número de vezes que cada professor aparece nas colunas \"Antes\" e \"Depois\"\n",
    "contagem_antes = df[\"Antes\"].value_counts()\n",
    "contagem_depois = df[\"Depois\"].value_counts()\n",
    "\n",
    "# Calcule os percentuais\n",
    "percentuais_antes = (contagem_antes / contagem_antes.sum()) * 100\n",
    "percentuais_depois = (contagem_depois / contagem_depois.sum()) * 100\n",
    "\n",
    "# Crie um DataFrame com os resultados\n",
    "df_resultados = pd.DataFrame({\n",
    "    \"Professor\": percentuais_antes.index,\n",
    "    \"Percentual Antes\": percentuais_antes.values,\n",
    "    \"Percentual Depois\": percentuais_depois.values\n",
    "})\n",
    "\n",
    "# Plote o gráfico de barras\n",
    "df_resultados.plot(x='Professor', y=['Percentual Antes', 'Percentual Depois'], kind='bar', figsize=(10, 6))\n",
    "plt.ylabel('Percentual (%)')\n",
    "plt.title('Comparação do Percentual de Aulas Antes e Depois')\n",
    "plt.xticks(rotation=0)\n",
    "plt.legend(['Antes', 'Depois'])\n",
    "plt.show()"
   ]
  },
  {
   "cell_type": "markdown",
   "metadata": {},
   "source": [
    "Após analisar os dados de alocação de professores nos módulos \"Antes\" e \"Depois\", observamos algumas diferenças significativas no uso dos professores. Abaixo estão os resultados da comparação dos percentuais de alocação:\n",
    "\n",
    "* docente_a: No cenário \"Antes\", o professor docente_a representava aproximadamente 26,4% das alocações, enquanto no cenário \"Depois\", esse percentual aumentou para cerca de 35,8%. Houve um aumento notável no uso deste professor.\n",
    "    \n",
    "* docente_j: No cenário \"Antes\", o professor docente_j também representava cerca de 26,4% das alocações, e no cenário \"Depois\", esse percentual diminuiu ligeiramente para aproximadamente 34,0%. Houve uma redução no uso deste professor.\n",
    "    \n",
    "* docente_h: O professor docente_h, que representava cerca de 24,5% das alocações no cenário \"Antes\", teve uma diminuição no percentual de alocações, chegando a aproximadamente 20,8% no cenário \"Depois\".\n",
    "    \n",
    "* docente_v: O professor docente_v, que inicialmente representava cerca de 22,6% das alocações no cenário \"Antes\", teve uma diminuição significativa no uso, chegando a cerca de 9,4% no cenário \"Depois\".\n",
    "    \n",
    "\n",
    "Observando essas mudanças, podemos tirar algumas conclusões importantes:\n",
    "\n",
    "1. Redistribuição de Recursos: A alocação de professores foi ajustada no cenário \"Depois\" para melhor atender às necessidades dos módulos. Isso envolveu um aumento no uso de alguns professores e uma diminuição de outros.\n",
    "    \n",
    "2. Uso Eficiente de Recursos: A alocação de professores deve ser feita de forma eficiente, levando em consideração as habilidades e competências de cada professor. Professores com maior expertise em determinados assuntos podem ser alocados com mais frequência nesses módulos, enquanto outros podem ser designados para funções onde suas competências se destacam.\n",
    "    \n",
    "3. Horários de Desenvolvimento e Estudos: Professores com menor percentual de uso e menor aptidão em comparação com outros podem ser alocados para horários de desenvolvimento da turma e estudos. Isso permite que eles aprimorem suas competências e se preparem para futuras alocações mais estratégicas.\n",
    "    \n",
    "4. A Importância da Análise de Dados: A análise de dados desempenha um papel crucial na otimização da alocação de professores. Através dessa análise, é possível identificar oportunidades de melhoria e fazer ajustes para garantir que os recursos humanos sejam utilizados da melhor maneira possível."
   ]
  },
  {
   "cell_type": "markdown",
   "metadata": {},
   "source": [
    "# Referências"
   ]
  }
 ],
 "metadata": {
  "kernelspec": {
   "display_name": "Python 3 (ipykernel)",
   "language": "python",
   "name": "python3"
  },
  "language_info": {
   "codemirror_mode": {
    "name": "ipython",
    "version": 3
   },
   "file_extension": ".py",
   "mimetype": "text/x-python",
   "name": "python",
   "nbconvert_exporter": "python",
   "pygments_lexer": "ipython3",
   "version": "3.10.6"
  },
  "toc": {
   "base_numbering": 1,
   "nav_menu": {},
   "number_sections": true,
   "sideBar": true,
   "skip_h1_title": false,
   "title_cell": "Table of Contents",
   "title_sidebar": "Contents",
   "toc_cell": false,
   "toc_position": {},
   "toc_section_display": true,
   "toc_window_display": false
  }
 },
 "nbformat": 4,
 "nbformat_minor": 2
}
