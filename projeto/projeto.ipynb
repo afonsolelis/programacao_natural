{
 "cells": [
  {
   "cell_type": "markdown",
   "metadata": {},
   "source": [
    "# Metodologia\n",
    "\n",
    "Nesta seção, descreveremos a metodologia exploratória baseada nos estudos de Acevedo e Nohara(2006) que será empregada para o entendimento inicial do assunto e realizar a Prova de Conceito (POC) com o objetivo de testar a classificação e alocação de recursos humanos em um contexto acadêmico. Esta pesquisa utilizará três algoritmos de otimização: o Algoritmo de Otimização por Enxame de Partículas (PSO), o Algoritmo Genético (AG) e um modelo baseado em Sistema Imunológico Artificial.\n",
    "\n",
    "Inicialmente, procederemos à coleta de dados essenciais, incluindo informações sobre os professores, suas proficiências em diferentes assuntos e as restrições de horários e dias de disponibilidade. Além disso, detalhes sobre as aulas, especificando os assuntos abordados em cada uma delas, serão obtidos.\n",
    "\n",
    "Em seguida, realizaremos o pré-processamento dos dados, adaptando-os para serem adequados à entrada dos algoritmos de otimização. Isso incluirá a criação de representações apropriadas para professores, aulas e restrições de disponibilidade.\n",
    "\n",
    "Após a preparação dos dados, implementaremos e executaremos os três algoritmos para resolver o problema de alocação de recursos humanos. Avaliaremos o desempenho de cada algoritmo em relação aos objetivos estabelecidos, incluindo a minimização de conflitos de horários e dias de aula.\n",
    "\n",
    "Por fim, os resultados serão analisados e comparados, permitindo uma avaliação crítica das capacidades de classificação e alocação de recursos dos algoritmos PSO, AG e Sistema Imunológico Artificial em um ambiente acadêmico com restrições de disponibilidade de professores.\n",
    "\n",
    "Esta abordagem metodológica está baseada segundo Laslo(2010) e seguirá as diretrizes de pesquisa exploratória, visando a compreensão inicial do problema e o teste de diferentes modelos matemáticos no contexto acadêmico."
   ]
  },
  {
   "cell_type": "markdown",
   "metadata": {},
   "source": [
    "# Referências\n",
    "\n",
    "ACEVEDO, C. R.; NOHARA, J. J. Monografia no curso de administração, guia completo de conteúdo e forma. 2. ed. São Paulo: Atlas, 2006\n",
    "\n",
    "LASLO, Z. (2010). Project portfolio management: an integrated method for resource planning and scheduling to minimize planning/scheduling-dependent expenses. International journal of project management."
   ]
  },
  {
   "cell_type": "markdown",
   "metadata": {},
   "source": []
  }
 ],
 "metadata": {
  "language_info": {
   "name": "python"
  },
  "orig_nbformat": 4
 },
 "nbformat": 4,
 "nbformat_minor": 2
}
