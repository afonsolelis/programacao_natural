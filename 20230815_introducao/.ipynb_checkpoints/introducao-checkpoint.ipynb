{
 "cells": [
  {
   "cell_type": "markdown",
   "id": "54f124ed-cde4-4438-aefe-af6bd09d0a94",
   "metadata": {},
   "source": [
    "# Aula 1 - Introdução"
   ]
  },
  {
   "cell_type": "markdown",
   "id": "b2dcf9b9-82e1-49a5-914a-71a38fb88b33",
   "metadata": {},
   "source": [
    "Exercícios - Aula 1 – Conceitos Básicos\r\n",
    "---------------------------------------\r\n",
    "\r\n",
    "**Questões 1, 2 e 4** - _Adaptadas do livro-texto “Fundamentals of Natural Computing”, por Leandro Nunes de Castro._\r\n",
    "\r\n",
    "1. Apresente um sistema ou processo natural que apresenta simultaneamente processos de retroalimentação (feedback) positivo e negativo, explicitando quais são esses processos e como eles interagem no contexto do sistema.\r\n",
    "    \r\n",
    "2. Defina, em suas palavras, os conceitos de competição e cooperação dentro de sistemas naturais. Feito isso, compare suas definições com aquelas presentes na literatura, indicando a fonte.\r\n",
    "    \r\n",
    "3. Pesquise sobre o comportamento de aves realizando movimentos migratórios, focando em como elas se organizam durante o voo. Feito isso, procure explicitar regras simples que cada ave deve seguir para que consiga se mover junto das outras nesse percurso. Existe um “líder” organizando o grupo ou ocorre um fenômeno de auto-organização?\r\n",
    "    \r\n",
    "4. Suponha que existe, numa rua de mão única e com uma única faixa, um radar de velocidade. Considere também que todos os motoristas que passam por essas ruas, obedecem às seguintes regras:\r\n",
    "    \r\n",
    "    * Se há um carro próximo a sua frente, diminua a velocidade;\r\n",
    "    * Se não há um carro próximo a sua frente, aumente a velocidade, a menos que já esteja no limite de velocidade;\r\n",
    "    * Se você visualizar um radar de velocidade, diminua sua velocidade, mesmo estando dentro do limite de velocidade.\r\n",
    "    \r\n",
    "    Que tipos de fenômenos emergentes você esperaria observar nesse sistema? Haveria congestionamento? Se sim, em que casos? Se não, por quê?"
   ]
  },
  {
   "cell_type": "markdown",
   "id": "a3b4bb44-44e3-4396-b986-7fa872c3815a",
   "metadata": {},
   "source": [
    "## Apresente um sistema ou processo natural que apresenta simultaneamente processos de retroalimentação (feedback) positivo e negativo, explicitando quais são esses processos e como eles interagem no contexto do sistema.\n",
    "\n",
    "Um exemplo interessante de sistema natural que apresenta simultaneamente processos de retroalimentação positiva e negativa é o sistema climático da Terra. Esse sistema é composto por vários elementos interconectados, como a atmosfera, os oceanos, as massas de gelo e a biosfera, que interagem de maneira complexa e dinâmica.\n",
    "\n",
    "1. **Retroalimentação Negativa (Estabilizadora):** Uma retroalimentação negativa é aquela em que uma mudança em um componente do sistema resulta em uma resposta que tende a atenuar essa mudança, mantendo o sistema em um estado mais estável. No contexto do sistema climático, um exemplo de retroalimentação negativa é o ciclo do dióxido de carbono (CO2).\n",
    "\n",
    "- Quando a temperatura da Terra aumenta, ocorre uma maior evaporação da água dos oceanos.\n",
    "- A atmosfera retém mais vapor d'água, que é um importante gás de efeito estufa.\n",
    "- Esse aumento de vapor d'água amplifica inicialmente o efeito de aquecimento.\n",
    "- No entanto, o aumento do vapor d'água também pode levar à formação de nuvens, que refletem a luz solar de volta para o espaço.\n",
    "- Essa reflexão reduz a quantidade de energia solar que atinge a superfície da Terra, contrabalançando o efeito de aquecimento inicial e, assim, estabilizando a temperatura.\n",
    "\n",
    "2. **Retroalimentação Positiva (Amplificadora):** Uma retroalimentação positiva é aquela em que uma mudança em um componente do sistema leva a uma resposta que amplifica essa mudança, levando o sistema a se afastar ainda mais do estado inicial. No sistema climático, um exemplo de retroalimentação positiva é o derretimento das massas de gelo.\n",
    "\n",
    "- À medida que a temperatura global aumenta, ocorre o derretimento das geleiras e calotas polares.\n",
    "- Superfícies de gelo refletem grande parte da luz solar, o que é conhecido como albedo elevado.\n",
    "- Quando o gelo derrete, a superfície exposta é geralmente mais escura, como o oceano ou o solo, que têm um albedo mais baixo.\n",
    "- Superfícies mais escuras absorvem mais luz solar e, portanto, geram mais calor, contribuindo para um aumento adicional da temperatura.\n",
    "- Esse ciclo de derretimento de gelo e aumento de absorção de calor continua, amplificando o aquecimento global.\n",
    "\n",
    "No sistema climático da Terra, esses processos de retroalimentação positiva e negativa estão interagindo constantemente. O aumento de gases de efeito estufa, como o CO2, é um exemplo de retroalimentação positiva, pois contribui para o aquecimento global, o que, por sua vez, afeta outros componentes do sistema, como o derretimento do gelo e a formação de nuvens, que podem ter efeitos de retroalimentação negativa, contrabalançando parcialmente o aquecimento. Essa interação complexa entre diferentes processos de retroalimentação é o que torna o sistema climático tão dinâmico e sujeito a mudanças rápidas e imprevisíveis.\n",
    "\n",
    "## Defina, em suas palavras, os conceitos de competição e cooperação dentro de sistemas naturais. Feito isso, compare suas definições com aquelas presentes na literatura, indicando a fonte\n",
    "\n",
    "**Definição de Competição e Cooperação:** Competição e cooperação são dois conceitos fundamentais que descrevem as interações entre indivíduos ou grupos dentro de sistemas naturais.\n",
    "\n",
    "- **Competição:** A competição ocorre quando indivíduos ou grupos disputam recursos limitados, como alimentos, espaço ou parceiros, de maneira que o ganho de um seja acompanhado pela perda do outro. Nesse contexto, os participantes estão tentando maximizar seu próprio sucesso ou sobrevivência, muitas vezes às custas dos outros. A competição pode levar a uma seleção natural que favorece características que proporcionam uma vantagem competitiva, permitindo que certos indivíduos tenham maior sucesso na obtenção de recursos.\n",
    "- **Cooperação:** A cooperação refere-se à interação entre indivíduos ou grupos que trabalham juntos em busca de benefícios mútuos, mesmo que esses benefícios possam ser alcançados de forma mais eficiente trabalhando juntos em vez de competir. A cooperação pode envolver a divisão de tarefas, compartilhamento de recursos e habilidades complementares, resultando em vantagens que nenhum dos participantes poderia alcançar sozinho. A cooperação também pode ser impulsionada por pressões evolutivas, levando ao desenvolvimento de estratégias que beneficiam tanto o indivíduo quanto o grupo.\n",
    "\n",
    "**Comparação com a Literatura:** As definições apresentadas acima estão em linha com as descrições encontradas na literatura científica e em estudos sobre ecologia, biologia evolutiva e comportamento animal.\n",
    "\n",
    "- Segundo o livro \"Ecology: Concepts and Applications\" de Molles (2009), a competição é uma interação entre organismos que buscam recursos limitados em um ambiente, com o objetivo de maximizar seu próprio sucesso reprodutivo ou sobrevivência. Por outro lado, a cooperação envolve interações que beneficiam tanto os participantes quanto o grupo como um todo, podendo ser resultado de pressões evolutivas que favorecem comportamentos cooperativos.\n",
    "- O artigo \"Cooperation and competition in nature\" de Axelrod e Hamilton (1981) discute como a competição e a cooperação são forças fundamentais na evolução e no comportamento animal. Eles enfatizam como os indivíduos muitas vezes enfrentam dilemas sobre quando competir e quando cooperar, dependendo das recompensas e custos envolvidos em cada estratégia.\n",
    "\n",
    "Em resumo, as definições apresentadas para competição e cooperação alinham-se com as perspectivas presentes na literatura científica, destacando a natureza complexa e interdependente desses dois tipos de interações nos sistemas naturais.\n",
    "\n",
    "## Pesquise sobre o comportamento de aves realizando movimentos migratórios, focando em como elas se organizam durante o voo. Feito isso, procure explicitar regras simples que cada ave deve seguir para que consiga se mover junto das outras nesse percurso. Existe um “líder” organizando o grupo ou ocorre um fenômeno de auto-organização?\n",
    "\n",
    "Durante os movimentos migratórios, muitas aves se organizam de maneira impressionante para voar em formação, o que proporciona benefícios significativos, como economia de energia e maior eficiência durante as longas viagens. Um dos exemplos mais conhecidos de migração em formação é o \"V\" que algumas aves adotam.\n",
    "\n",
    "Os estudos sugerem que não há um líder centralizado que organize o grupo, mas sim um fenômeno de auto-organização baseado em regras simples que cada ave segue. Algumas das regras e princípios que as aves seguem durante o voo em formação incluem:\n",
    "- **Posicionamento em \"V\":** As aves muitas vezes voam em uma formação de \"V\", onde o líder fica na frente e as outras aves seguem atrás dele. Isso cria um arrasto aerodinâmico reduzido para as aves seguintes, economizando energia.\n",
    "- **Posicionamento Relativo:** Cada ave ajusta sua posição relativa em relação às outras. Elas se alinham lateralmente e verticalmente, mantendo uma distância adequada para evitar colisões, mas também para aproveitar as correntes de ar geradas pelas asas da ave da frente.\n",
    "- **Sincronização:** As aves ajustam suas batidas de asas para manter uma frequência relativamente uniforme, o que evita interferências e turbulências no ar, tornando o voo mais estável.\n",
    "- **Rotação de Líder:** O líder na posição da frente não é fixo. Ao longo do voo, diferentes aves assumem a posição de líder, compartilhando o trabalho de abrir caminho e enfrentar a resistência do ar.\n",
    "- **Comunicação e Feedback:** As aves se comunicam por meio de chamados e movimentos sutis. O feedback sensorial de uma ave, como a visão das batidas de asas da ave da frente, ajuda a ajustar sua própria posição e movimento.\n",
    "- **Flexibilidade:** A formação não é rígida; as aves podem ajustar sua posição para evitar obstáculos, enfrentar mudanças nas condições do vento e otimizar sua posição.\n",
    "\n",
    "Essas regras simples permitem que as aves mantenham um voo em formação eficiente sem a necessidade de um líder centralizado. O fenômeno de auto-organização é uma consequência das interações locais entre as aves, onde cada uma responde ao comportamento daquelas próximas a ela, levando a um padrão emergente de voo sincronizado.\n",
    "\n",
    "O famoso estudo \"V Formation in Geese: Reduction of Ecoste of Headwind\" de Weimerskirch et al. (2001) analisou o comportamento de gansos voando em formação \"V\" e descobriu que esse padrão oferece uma vantagem significativa de economia de energia, mas também não encontrou uma evidência clara de liderança centralizada, sugerindo que a formação ocorre através da auto-organização.\n",
    "\n",
    "## Suponha que existe, numa rua de mão única e com uma única faixa, um radar de velocidade. Considere também que todos os motoristas que passam por essas ruas, obedecem às seguintes regras: • Se há um carro próximo a sua frente, diminua a velocidade; • Se não há um carro próximo a sua frente, aumente a velocidade, a menos que já esteja no limite de velocidade; • Se você visualizar um radar de velocidade, diminua sua velocidade, mesmo estando dentro do limite de velocidade. Que tipos de fenômenos emergentes você esperaria observar nesse sistema? Haveria congestionamento? Se sim, em que casos? Se não, por quê?\n",
    "\n",
    "No sistema descrito, com motoristas obedecendo a essas regras simples, podemos antecipar alguns fenômenos emergentes interessantes e também discutir o potencial para o congestionamento:\n",
    "\n",
    "1. **Formação de Ondas de Tráfego (Ondas de Congestionamento):** Devido à tendência de diminuir a velocidade quando há um carro à frente e aumentar a velocidade quando não há, é possível que ondas de tráfego se formem, mesmo que o fluxo de carros esteja abaixo do limite de velocidade. Essas ondas de tráfego, também conhecidas como \"ondas de congestionamento\", ocorrem quando uma pequena redução na velocidade de um carro é transmitida para os carros subsequentes, causando um efeito em cascata.\n",
    "2. **Fenômeno de \"Frenagem de Ondulação\":** Se um motorista à frente de um grupo de carros diminui repentinamente a velocidade, todos os carros subsequentes devem reduzir a velocidade, resultando em uma série de frenagens e acelerações em cascata, mesmo que não haja nenhuma obstrução à frente.\n",
    "3. **Formação de Congestionamentos em Casos Específicos:** Embora não haja um congestionamento contínuo, é possível que congestionamentos locais ocorram em áreas onde as ondas de tráfego interagem com outros fatores, como semáforos, cruzamentos ou outras vias que desembocam na rua principal.\n",
    "4. **Sensibilidade ao Radar de Velocidade:** A presença de um radar de velocidade pode levar a um comportamento em que todos os carros diminuem a velocidade ao passar pelo radar, independentemente de estarem ou não acima do limite de velocidade. Isso pode causar desaceleração em massa temporária.\n",
    "5. **Fluxo Oscilante:** Devido às reações das regras, o fluxo de carros pode se tornar oscilante, com períodos de aceleração e desaceleração, mesmo que o tráfego esteja relativamente baixo e abaixo do limite de velocidade.\n",
    "\n",
    "Portanto, embora o sistema possa experimentar ondas de congestionamento e flutuações no fluxo, não é garantido que ocorra congestionamento contínuo em todos os momentos. A tendência dos motoristas em se ajustarem uns aos outros e às regras de velocidade reduzida quando um radar é avistado pode ajudar a aliviar o congestionamento em certos momentos. O sistema pode exibir um comportamento dinâmico complexo, variando de acordo com as condições específicas da estrada, a densidade do tráfego, a localização dos radares e outros fatores.\n"
   ]
  }
 ],
 "metadata": {
  "kernelspec": {
   "display_name": "Python 3 (ipykernel)",
   "language": "python",
   "name": "python3"
  },
  "language_info": {
   "codemirror_mode": {
    "name": "ipython",
    "version": 3
   },
   "file_extension": ".py",
   "mimetype": "text/x-python",
   "name": "python",
   "nbconvert_exporter": "python",
   "pygments_lexer": "ipython3",
   "version": "3.11.5"
  }
 },
 "nbformat": 4,
 "nbformat_minor": 5
}
