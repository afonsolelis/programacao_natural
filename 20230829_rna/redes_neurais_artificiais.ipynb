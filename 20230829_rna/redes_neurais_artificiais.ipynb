{
 "cells": [
  {
   "cell_type": "markdown",
   "metadata": {},
   "source": [
    "# Exercício - Aula 3 – Redes Neurais Artificiais"
   ]
  },
  {
   "cell_type": "code",
   "execution_count": 1,
   "metadata": {},
   "outputs": [],
   "source": [
    "import numpy as np\n",
    "\n",
    "# Função logística (sigmoide)\n",
    "def sigmoid(x):\n",
    "    return 1 / (1 + np.exp(-x))\n",
    "\n",
    "# Derivada da função logística\n",
    "def sigmoid_derivative(x):\n",
    "    return x * (1 - x)\n",
    "\n",
    "# Dados de entrada e saída desejada\n",
    "X = np.array([\n",
    "    [1, 0, 0, 1, 0],\n",
    "    [1, 0, 0, 0, 1],\n",
    "    # ... Adicione os outros exemplos de entrada aqui\n",
    "])\n",
    "\n",
    "y = np.array([\n",
    "    [1, 0],\n",
    "    [1, 0],\n",
    "    # ... Adicione os outros exemplos de saída desejada aqui\n",
    "])\n",
    "\n",
    "# Inicialização dos pesos da rede\n",
    "input_size = X.shape[1]\n",
    "hidden_size = 5\n",
    "output_size = 2\n",
    "\n",
    "np.random.seed(0)\n",
    "weights_input_hidden = np.random.uniform(size=(input_size, hidden_size))\n",
    "weights_hidden_output = np.random.uniform(size=(hidden_size, output_size))"
   ]
  },
  {
   "cell_type": "code",
   "execution_count": 2,
   "metadata": {},
   "outputs": [
    {
     "name": "stdout",
     "output_type": "stream",
     "text": [
      "Época 0: Erro quadrático médio = 0.28069\n",
      "Treinamento concluído na época 93 com erro quadrático médio 0.00992\n",
      "Pesos da camada oculta para a camada de saída:\n",
      "[[ 0.69748178 -0.63387558]\n",
      " [ 1.00208546 -0.25580889]\n",
      " [ 0.47590818 -0.54786652]\n",
      " [ 0.83590095 -0.3676671 ]\n",
      " [ 0.62561764 -0.73052118]]\n",
      "Pesos da camada de entrada para a camada oculta:\n",
      "[[0.60399947 0.70268437 0.63266462 0.54642612 0.50402409]\n",
      " [0.64589411 0.43758721 0.891773   0.96366276 0.38344152]\n",
      " [0.79172504 0.52889492 0.56804456 0.92559664 0.07103606]\n",
      " [0.12106404 0.0136294  0.84621298 0.77953917 0.90370729]\n",
      " [0.99986957 0.79324257 0.47778747 0.7806897  0.16494857]]\n"
     ]
    }
   ],
   "source": [
    "# Hiperparâmetros\n",
    "learning_rate = 0.1\n",
    "error_threshold = 0.01\n",
    "max_epochs = 10000\n",
    "\n",
    "# Treinamento da rede\n",
    "for epoch in range(max_epochs):\n",
    "    # Forward pass\n",
    "    hidden_layer_input = np.dot(X, weights_input_hidden)\n",
    "    hidden_layer_output = sigmoid(hidden_layer_input)\n",
    "\n",
    "    output_layer_input = np.dot(hidden_layer_output, weights_hidden_output)\n",
    "    output_layer_output = sigmoid(output_layer_input)\n",
    "\n",
    "    # Cálculo do erro\n",
    "    error = y - output_layer_output\n",
    "    mean_squared_error = np.mean(error ** 2)\n",
    "\n",
    "    if mean_squared_error < error_threshold:\n",
    "        print(f\"Treinamento concluído na época {epoch} com erro quadrático médio {mean_squared_error:.5f}\")\n",
    "        break\n",
    "\n",
    "    # Backpropagation\n",
    "    d_output = error * sigmoid_derivative(output_layer_output)\n",
    "    error_hidden_layer = d_output.dot(weights_hidden_output.T)\n",
    "    d_hidden_layer = error_hidden_layer * sigmoid_derivative(hidden_layer_output)\n",
    "\n",
    "    # Atualização dos pesos\n",
    "    weights_hidden_output += hidden_layer_output.T.dot(d_output) * learning_rate\n",
    "    weights_input_hidden += X.T.dot(d_hidden_layer) * learning_rate\n",
    "\n",
    "    if epoch % 1000 == 0:\n",
    "        print(f\"Época {epoch}: Erro quadrático médio = {mean_squared_error:.5f}\")\n",
    "\n",
    "# Resultados finais\n",
    "print(\"Pesos da camada oculta para a camada de saída:\")\n",
    "print(weights_hidden_output)\n",
    "print(\"Pesos da camada de entrada para a camada oculta:\")\n",
    "print(weights_input_hidden)"
   ]
  }
 ],
 "metadata": {
  "kernelspec": {
   "display_name": "Python 3",
   "language": "python",
   "name": "python3"
  },
  "language_info": {
   "codemirror_mode": {
    "name": "ipython",
    "version": 3
   },
   "file_extension": ".py",
   "mimetype": "text/x-python",
   "name": "python",
   "nbconvert_exporter": "python",
   "pygments_lexer": "ipython3",
   "version": "3.10.6"
  },
  "orig_nbformat": 4
 },
 "nbformat": 4,
 "nbformat_minor": 2
}
